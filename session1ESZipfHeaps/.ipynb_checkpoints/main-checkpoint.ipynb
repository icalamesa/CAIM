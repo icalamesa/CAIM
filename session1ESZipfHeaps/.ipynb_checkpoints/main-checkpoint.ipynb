{
 "cells": [
  {
   "cell_type": "code",
   "execution_count": 33,
   "id": "cc4e393e-cb96-408f-8d30-8960da4baee4",
   "metadata": {},
   "outputs": [],
   "source": [
    "#Format to CSV and remove unneeded information\n",
    "outFileName = 'CountNewsOut.csv'\n",
    "with open('CountNewsOut') as infile, open(outFileName, 'w') as outfile:\n",
    "    outfile.write(\"occurrences, word\\n\")\n",
    "    for line in infile:\n",
    "        word = line.split(', ', 1)[1]\n",
    "        if not any(i.isdigit() for i in word) and len(word)>1:\n",
    "            outfile.write(line)"
   ]
  },
  {
   "cell_type": "code",
   "execution_count": 13,
   "id": "0d923fc9-021c-4937-91e0-54be916a0431",
   "metadata": {},
   "outputs": [],
   "source": [
    "import matplotlib.pyplot as plt\n",
    "import matplotlib.cbook as cbook\n",
    "\n",
    "import numpy as np\n",
    "import pandas as pd"
   ]
  },
  {
   "cell_type": "code",
   "execution_count": 40,
   "id": "e74f7538-b8ad-4fce-a4f5-90bcd0eaa099",
   "metadata": {},
   "outputs": [
    {
     "name": "stdout",
     "output_type": "stream",
     "text": [
      "                  0             1    rank\n",
      "0       occurrences          word  102997\n",
      "1                 1        felson  102996\n",
      "2                 1        beeped  102995\n",
      "3                 1   alfred.uucp  102994\n",
      "4                 1      dierksen  102993\n",
      "...             ...           ...     ...\n",
      "102992       101530           and       5\n",
      "102993       107310             a       4\n",
      "102994       116233            of       3\n",
      "102995       129475            to       2\n",
      "102996       257240           the       1\n",
      "\n",
      "[102997 rows x 3 columns]\n"
     ]
    }
   ],
   "source": [
    "df = pd.read_csv(outFileName, sep=',', header=None)\n",
    "df.insert(2, \"rank\", range(len(df), 0, -1))\n",
    "print(df)"
   ]
  },
  {
   "cell_type": "code",
   "execution_count": null,
   "id": "4c509da3-5cde-4ac3-babd-be450857869b",
   "metadata": {},
   "outputs": [],
   "source": []
  }
 ],
 "metadata": {
  "kernelspec": {
   "display_name": "Python 3 (ipykernel)",
   "language": "python",
   "name": "python3"
  },
  "language_info": {
   "codemirror_mode": {
    "name": "ipython",
    "version": 3
   },
   "file_extension": ".py",
   "mimetype": "text/x-python",
   "name": "python",
   "nbconvert_exporter": "python",
   "pygments_lexer": "ipython3",
   "version": "3.10.6"
  }
 },
 "nbformat": 4,
 "nbformat_minor": 5
}
