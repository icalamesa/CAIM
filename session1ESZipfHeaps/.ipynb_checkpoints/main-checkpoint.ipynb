{
 "cells": [
  {
   "cell_type": "code",
   "execution_count": 1,
   "id": "6d7dc56b",
   "metadata": {},
   "outputs": [
    {
     "name": "stderr",
     "output_type": "stream",
     "text": [
      "[nltk_data] Downloading package stopwords to /home/ivan/nltk_data...\n",
      "[nltk_data]   Package stopwords is already up-to-date!\n",
      "[nltk_data] Downloading package wordnet to /home/ivan/nltk_data...\n",
      "[nltk_data]   Package wordnet is already up-to-date!\n",
      "[nltk_data] Downloading package omw-1.4 to /home/ivan/nltk_data...\n",
      "[nltk_data]   Package omw-1.4 is already up-to-date!\n"
     ]
    },
    {
     "data": {
      "text/plain": [
       "True"
      ]
     },
     "execution_count": 1,
     "metadata": {},
     "output_type": "execute_result"
    }
   ],
   "source": [
    "import nltk\n",
    "nltk.download('stopwords')\n",
    "nltk.download('wordnet')\n",
    "nltk.download('omw-1.4')"
   ]
  },
  {
   "cell_type": "code",
   "execution_count": 2,
   "id": "1e3221e6",
   "metadata": {},
   "outputs": [],
   "source": [
    "from nltk.corpus import stopwords\n",
    "from nltk.tokenize import word_tokenize\n",
    "import english_words\n",
    "from english_words import english_words_set"
   ]
  },
  {
   "cell_type": "code",
   "execution_count": 3,
   "id": "9fc82f7a-ec45-4d0a-8233-655b217e936e",
   "metadata": {},
   "outputs": [],
   "source": [
    "from nltk.stem import PorterStemmer\n",
    "w_tokenizer = nltk.tokenize.WhitespaceTokenizer()\n",
    "lemmatizer = nltk.stem.WordNetLemmatizer()"
   ]
  },
  {
   "cell_type": "code",
   "execution_count": 4,
   "id": "5313a604-13b1-4528-b482-a2c55edc602b",
   "metadata": {},
   "outputs": [],
   "source": [
    "def lemmatize_text(text):\n",
    "    return [lemmatizer.lemmatize(w) for w in w_tokenizer.tokenize(text)]"
   ]
  },
  {
   "cell_type": "code",
   "execution_count": 5,
   "id": "cc4e393e-cb96-408f-8d30-8960da4baee4",
   "metadata": {},
   "outputs": [],
   "source": [
    "#Format to CSV and remove unneeded information\n",
    "from string import punctuation\n",
    "outFileName = 'CountNewsOut.csv'\n",
    "with open('CountNewsOut') as infile, open(outFileName, 'w') as outfile:\n",
    "    outfile.write(\"occurrences,word\\n\")\n",
    "    for line in infile:\n",
    "        word = line.split(',', 1)[1]\n",
    "        word.strip()\n",
    "        if not any(i.isdigit() for i in word) and not any(p in word for p in punctuation): #and lemmatizer.lemmatize(word) in english_words_set:# in english_words_set:\n",
    "            outfile.write(line)"
   ]
  },
  {
   "cell_type": "code",
   "execution_count": 6,
   "id": "0d923fc9-021c-4937-91e0-54be916a0431",
   "metadata": {},
   "outputs": [],
   "source": [
    "import matplotlib.pyplot as plt\n",
    "import matplotlib.cbook as cbook\n",
    "\n",
    "import numpy as np\n",
    "import pandas as pd"
   ]
  },
  {
   "cell_type": "code",
   "execution_count": 7,
   "id": "e74f7538-b8ad-4fce-a4f5-90bcd0eaa099",
   "metadata": {},
   "outputs": [
    {
     "name": "stdout",
     "output_type": "stream",
     "text": [
      "       occurrences         word   rank\n",
      "0                1       felson  86822\n",
      "1                1       beeped  86821\n",
      "2                1     dierksen  86820\n",
      "3                1       jtsiao  86819\n",
      "4                1   distrotion  86818\n",
      "...            ...          ...    ...\n",
      "86817       101530          and      5\n",
      "86818       107310            a      4\n",
      "86819       116233           of      3\n",
      "86820       129475           to      2\n",
      "86821       257240          the      1\n",
      "\n",
      "[86822 rows x 3 columns]\n"
     ]
    }
   ],
   "source": [
    "df = pd.read_csv(outFileName, sep=',')\n",
    "df[\"rank\"] = range(len(df), 0, -1)\n",
    "print(df)"
   ]
  },
  {
   "cell_type": "code",
   "execution_count": 8,
   "id": "4c509da3-5cde-4ac3-babd-be450857869b",
   "metadata": {},
   "outputs": [
    {
     "data": {
      "text/plain": [
       "[<matplotlib.lines.Line2D at 0x7f5cb1cba110>]"
      ]
     },
     "execution_count": 8,
     "metadata": {},
     "output_type": "execute_result"
    },
    {
     "data": {
      "image/png": "[encoded data removed]",
      "text/plain": [
       "<Figure size 432x288 with 1 Axes>"
      ]
     },
     "metadata": {
      "needs_background": "light"
     },
     "output_type": "display_data"
    }
   ],
   "source": [
    "plt.plot(df[\"rank\"], df[\"occurrences\"])"
   ]
  },
  {
   "cell_type": "code",
   "execution_count": 9,
   "id": "8ba92d35-0c9c-4504-9c40-fbbbc8f829f6",
   "metadata": {},
   "outputs": [
    {
     "data": {
      "text/plain": [
       "[<matplotlib.lines.Line2D at 0x7f5cafb5a440>]"
      ]
     },
     "execution_count": 9,
     "metadata": {},
     "output_type": "execute_result"
    },
    {
     "data": {
      "image/png": "[encoded data removed]",
      "text/plain": [
       "<Figure size 432x288 with 1 Axes>"
      ]
     },
     "metadata": {
      "needs_background": "light"
     },
     "output_type": "display_data"
    }
   ],
   "source": [
    "plt.loglog(df[\"rank\"], df[\"occurrences\"])"
   ]
  },
  {
   "cell_type": "code",
   "execution_count": 10,
   "id": "c905db43",
   "metadata": {},
   "outputs": [
    {
     "ename": "NameError",
     "evalue": "name 'english_words_lower_set' is not defined",
     "output_type": "error",
     "traceback": [
      "\u001b[0;31m---------------------------------------------------------------------------\u001b[0m",
      "\u001b[0;31mNameError\u001b[0m                                 Traceback (most recent call last)",
      "Input \u001b[0;32mIn [10]\u001b[0m, in \u001b[0;36m<cell line: 3>\u001b[0;34m()\u001b[0m\n\u001b[1;32m      1\u001b[0m \u001b[38;5;66;03m#df['word_correct'] = df['word'].apply(lambda x: lemma.lemmatize(y) for y in )\u001b[39;00m\n\u001b[1;32m      2\u001b[0m df[\u001b[38;5;124m'\u001b[39m\u001b[38;5;124mword_correct\u001b[39m\u001b[38;5;124m'\u001b[39m] \u001b[38;5;241m=\u001b[39m df[\u001b[38;5;124m\"\u001b[39m\u001b[38;5;124mword\u001b[39m\u001b[38;5;124m\"\u001b[39m]\u001b[38;5;241m.\u001b[39mapply(lemmatize_text)\n\u001b[0;32m----> 3\u001b[0m df \u001b[38;5;241m=\u001b[39m df[df[\u001b[38;5;124m'\u001b[39m\u001b[38;5;124mword\u001b[39m\u001b[38;5;124m'\u001b[39m]\u001b[38;5;241m.\u001b[39misin(\u001b[43menglish_words_lower_set\u001b[49m)]\n\u001b[1;32m      4\u001b[0m df\u001b[38;5;241m.\u001b[39mto_csv(\u001b[38;5;124m\"\u001b[39m\u001b[38;5;124mlemmatized_words.csv\u001b[39m\u001b[38;5;124m\"\u001b[39m)\n\u001b[1;32m      5\u001b[0m \u001b[38;5;28mprint\u001b[39m(df[\u001b[38;5;124m'\u001b[39m\u001b[38;5;124mword_correct\u001b[39m\u001b[38;5;124m'\u001b[39m])\n",
      "\u001b[0;31mNameError\u001b[0m: name 'english_words_lower_set' is not defined"
     ]
    }
   ],
   "source": [
    "#df['word_correct'] = df['word'].apply(lambda x: lemma.lemmatize(y) for y in )\n",
    "df['word_correct'] = df[\"word\"].apply(lemmatize_text)\n",
    "df = df[df['word'].isin(english_words_lower_set)]\n",
    "df.to_csv(\"lemmatized_words.csv\")\n",
    "print(df['word_correct'])"
   ]
  },
  {
   "cell_type": "code",
   "execution_count": null,
   "id": "c33714e7",
   "metadata": {},
   "outputs": [],
   "source": [
    "stop_words = set(stopwords.words('english'))\n",
    "print(df.keys())\n",
    "print(\"HOLAAAA\")\n",
    "#df = df.drop(df.index[df['word'] in stop_words], inplace = True)\n",
    "print(len(df))\n",
    "df['word'] = df['word'].str.lower()\n",
    "#df = df[~df['word'].isin(stop_words)]\n",
    "\n",
    "\n",
    "#print(len(df[~df['word'].isin(stop_words)]))"
   ]
  },
  {
   "cell_type": "code",
   "execution_count": null,
   "id": "ca61df45",
   "metadata": {},
   "outputs": [],
   "source": [
    "plt.loglog(df[\"rank\"], df[\"occurrences\"])\n"
   ]
  },
  {
   "cell_type": "code",
   "execution_count": null,
   "id": "8fee3e24",
   "metadata": {},
   "outputs": [],
   "source": [
    "print(len(df))"
   ]
  },
  {
   "cell_type": "code",
   "execution_count": null,
   "id": "c805d7dd",
   "metadata": {},
   "outputs": [],
   "source": []
  }
 ],
 "metadata": {
  "kernelspec": {
   "display_name": "Python 3 (ipykernel)",
   "language": "python",
   "name": "python3"
  },
  "language_info": {
   "codemirror_mode": {
    "name": "ipython",
    "version": 3
   },
   "file_extension": ".py",
   "mimetype": "text/x-python",
   "name": "python",
   "nbconvert_exporter": "python",
   "pygments_lexer": "ipython3",
   "version": "3.10.6"
  }
 },
 "nbformat": 4,
 "nbformat_minor": 5
}
